{
 "cells": [
  {
   "cell_type": "markdown",
   "metadata": {},
   "source": [
    "# Interpolation/Fractional Delay/Resampling"
   ]
  },
  {
   "cell_type": "markdown",
   "metadata": {},
   "source": [
    "[back to main page](../index.ipynb)"
   ]
  },
  {
   "cell_type": "markdown",
   "metadata": {},
   "source": [
    "This is work-in-progress!"
   ]
  },
  {
   "cell_type": "markdown",
   "metadata": {},
   "source": [
    "[IPython notebook](http://nbviewer.ipython.org/urls/raw.github.com/mgeier/python-audio/master/interpolation/interpolation.ipynb)"
   ]
  },
  {
   "cell_type": "markdown",
   "metadata": {},
   "source": [
    "## Resampling/Interpolation in Python\n",
    "\n",
    "scikits.samplerate:  \n",
    "http://scikits.appspot.com/samplerate\n",
    "\n",
    "numpy.interp:  \n",
    "http://docs.scipy.org/doc/numpy/reference/generated/numpy.interp.html\n",
    "\n",
    "scipy.signal.resample:  \n",
    "http://docs.scipy.org/doc/scipy/reference/generated/scipy.signal.resample.html\n",
    "\n",
    "scipy.interpolate sub-package:  \n",
    "http://docs.scipy.org/doc/scipy/reference/interpolate.html\n",
    "\n",
    "http://urinieto.com/2011/05/audio-resampling-in-python/\n",
    "\n",
    "http://nbviewer.ipython.org/github/LCAV/SignalsOfTheDay/blob/master/Safecast/Safecast.ipynb\n",
    "\n",
    "https://www.flickr.com/photos/omegatron/6259002071\n",
    "\n",
    "pyrubberband:  \n",
    "https://github.com/bmcfee/pyrubberband\n",
    "\n",
    "https://resampy.readthedocs.io/"
   ]
  },
  {
   "cell_type": "markdown",
   "metadata": {},
   "source": [
    "## Available Open Source Libraries\n",
    "\n",
    "Secret Rabbit Code (aka libsamplerate):  \n",
    "http://www.mega-nerd.com/SRC/\n",
    "\n",
    "FSRC:  \n",
    "http://libfsrc.sourceforge.net/\n",
    "\n",
    "Rubber Band Library:  \n",
    "http://breakfastquay.com/rubberband/  \n",
    "https://bitbucket.org/breakfastquay/rubberband/\n",
    "\n",
    "SoundTouch Audio Processing Library:  \n",
    "http://www.surina.net/soundtouch/index.html\n",
    "\n",
    "Maximilian:  \n",
    "http://maximilian.strangeloop.co.uk/  \n",
    "https://github.com/micknoise/Maximilian\n",
    "\n",
    "libsoxr:  \n",
    "http://sourceforge.net/projects/soxr/\n",
    "\n",
    "libresample:  \n",
    "https://ccrma.stanford.edu/~jos/resample/README-libresample-0.1.3.txt  \n",
    "https://github.com/intervigilium/libresample\n",
    "\n",
    "various:  \n",
    "https://ccrma.stanford.edu/~jos/resample/Available_Software.html\n",
    "\n",
    "Google Oboe (C++/Android):  \n",
    "https://github.com/google/oboe/tree/master/src/flowgraph/resampler"
   ]
  },
  {
   "cell_type": "markdown",
   "metadata": {},
   "source": [
    "## Papers\n",
    "\n",
    "Laakso, TI, V Valimaki, M Karjalainen, and UK Laine. \"Splitting the Unit Delay.\" IEEE Signal Processing Magazine 13, no. 1 (1996): 30–60.\n",
    "http://dx.doi.org/10.1109/79.482137\n",
    "\n",
    "Meijering, Erik. \"A Chronology of Interpolation: From Ancient Astronomy to Modern Signal and Image Processing.\" Proceedings of the IEEE 90, no. 3 (2002): 317–42.\n",
    "https://doi.org/10.1109/5.993400\n",
    "\n",
    "Rocchesso, Davide. \"Fractionally Addressed Delay Lines.\" Speech and Audio Processing, IEEE Transactions On 8, no. 6 (2002): 717–727.\n",
    "https://doi.org/10.1109/89.876310"
   ]
  },
  {
   "cell_type": "markdown",
   "metadata": {},
   "source": [
    "## Misc\n",
    "\n",
    "Comparison of Sample Rate Converters:  \n",
    "http://src.infinitewave.ca/\n",
    "\n",
    "Sample Rate Conversion in Audacity:  \n",
    "http://wiki.audacityteam.org/wiki/Libsoxr"
   ]
  },
  {
   "cell_type": "markdown",
   "metadata": {},
   "source": [
    "## More Links\n",
    "\n",
    "http://www.music.mcgill.ca/~gary/618/week1/delayline.html\n",
    "\n",
    "http://www.embedded.com/design/other/4212939/Time-domain-interpolation-using-the-Fast-Fourier-Transform-\n",
    "\n",
    "http://phaseportrait.blogspot.de/2008/06/sinc-interpolation-in-matlab.html\n",
    "\n",
    "https://lists.columbia.edu/pipermail/music-dsp/2016-February/000605.html\n",
    "\n",
    "http://www.labbookpages.co.uk/audio/beamforming/fractionalDelay.html\n",
    "\n",
    "Sampling theory, the best explanation you’ve ever heard:  \n",
    "http://www.earlevel.com/main/tag/sampling-theory-series/?order=asc  \n",
    "https://lists.columbia.edu/pipermail/music-dsp/2017-August/001501.html\n",
    "\n",
    "The Quest For The Perfect Resampler:  \n",
    "http://ldesoras.free.fr/doc/articles/resampler-en.pdf\n",
    "\n",
    "https://signalsprocessed.blogspot.com/2016/08/audio-resampling-in-python.html"
   ]
  },
  {
   "cell_type": "markdown",
   "metadata": {},
   "source": [
    "<p xmlns:dct=\"http://purl.org/dc/terms/\">\n",
    "  <a rel=\"license\"\n",
    "     href=\"http://creativecommons.org/publicdomain/zero/1.0/\">\n",
    "    <img src=\"http://i.creativecommons.org/p/zero/1.0/88x31.png\" style=\"border-style: none;\" alt=\"CC0\" />\n",
    "  </a>\n",
    "  <br />\n",
    "  To the extent possible under law,\n",
    "  <span rel=\"dct:publisher\" resource=\"[_:publisher]\">the person who associated CC0</span>\n",
    "  with this work has waived all copyright and related or neighboring\n",
    "  rights to this work.\n",
    "</p>"
   ]
  }
 ],
 "metadata": {
  "kernelspec": {
   "display_name": "Python 3",
   "language": "python",
   "name": "python3"
  },
  "language_info": {
   "codemirror_mode": {
    "name": "ipython",
    "version": 3
   },
   "file_extension": ".py",
   "mimetype": "text/x-python",
   "name": "python",
   "nbconvert_exporter": "python",
   "pygments_lexer": "ipython3",
   "version": "3.9.1"
  }
 },
 "nbformat": 4,
 "nbformat_minor": 4
}
